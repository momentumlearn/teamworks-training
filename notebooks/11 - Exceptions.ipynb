{
 "cells": [
  {
   "cell_type": "markdown",
   "metadata": {},
   "source": [
    "## Why exceptions?"
   ]
  },
  {
   "cell_type": "markdown",
   "metadata": {},
   "source": [
    "Exceptions are used to handle errors that happen during program execution. Most errors we've seen so far are caught when Python reads your program, but errors can happen while the program is running, like when you divide by zero or try to open a file that does not exist.\n",
    "\n",
    "The main thing we need to know about exceptions at this time is how to handle them."
   ]
  },
  {
   "cell_type": "code",
   "execution_count": null,
   "metadata": {},
   "outputs": [],
   "source": [
    "print(\"Let's turn a fraction into a decimal.\")\n",
    "numerator = input(\"Numerator: \")\n",
    "denominator = input(\"Denominator: \")\n",
    "\n",
    "try:\n",
    "    print(\"The result is {}.\".format(float(numerator) / float(denominator)))\n",
    "except ZeroDivisionError as e:\n",
    "    print(\"You cannot divide by zero!\")\n",
    "    print(type(e))\n",
    "    print(e)  \n",
    "except ValueError:\n",
    "    print(\"You didn't enter two numbers.\")\n",
    "except:\n",
    "    print(\"Some other error happened!\")"
   ]
  },
  {
   "cell_type": "markdown",
   "metadata": {},
   "source": [
    "## Common exceptions you will see\n",
    "\n",
    "* AttributeError - when you try to access an attribute that doesn't exist on an object\n",
    "* IndexError - when you try to access an index that doesn't exist on an object\n",
    "* KeyError - when you try to access a key that doesn't exist on a dict\n",
    "* NameError - when you try to use a variable that is undefined\n",
    "* RuntimeError - general-purpose error\n",
    "* ValueError - when you call a function with an argument that cannot work\n",
    "* ZeroDivisionError - when you divide by zero"
   ]
  },
  {
   "cell_type": "markdown",
   "metadata": {},
   "source": [
    "## Raising your own exceptions\n",
    "\n",
    "If you have an event worthy of an exception in your own code, you can raise an exception. You should try to handle errors when possible, but if there is an unhandleable situation in your code, an exception is warranted."
   ]
  },
  {
   "cell_type": "code",
   "execution_count": null,
   "metadata": {},
   "outputs": [],
   "source": [
    "import re\n",
    "import random\n",
    "\n",
    "def roll_dice(dice):\n",
    "    match = re.match(\"(\\d+)d(\\d+)\", dice)\n",
    "    if match is None:\n",
    "        raise ValueError(\"Not a valid dice expression\")\n",
    "    \n",
    "    number, size = [int(x) for x in match.groups()]\n",
    "    \n",
    "    return sum([random.randint(1, size) for _ in range(number)])"
   ]
  },
  {
   "cell_type": "code",
   "execution_count": null,
   "metadata": {},
   "outputs": [],
   "source": [
    "roll_dice(\"3d6\")"
   ]
  },
  {
   "cell_type": "code",
   "execution_count": null,
   "metadata": {},
   "outputs": [],
   "source": [
    "print(f\"Str {roll_dice('3d6')}\")\n",
    "print(f\"Dex {roll_dice('3d6')}\")\n",
    "print(f\"Con {roll_dice('3d6')}\")\n",
    "print(f\"Int {roll_dice('3d6')}\")\n",
    "print(f\"Wis {roll_dice('3d6')}\")\n",
    "print(f\"Cha {roll_dice('3d6')}\")      "
   ]
  },
  {
   "cell_type": "code",
   "execution_count": null,
   "metadata": {},
   "outputs": [],
   "source": [
    "roll_dice(\"100d100\")"
   ]
  },
  {
   "cell_type": "code",
   "execution_count": null,
   "metadata": {},
   "outputs": [],
   "source": [
    "roll_dice(\"12\")"
   ]
  }
 ],
 "metadata": {
  "kernelspec": {
   "display_name": "Python 3",
   "language": "python",
   "name": "python3"
  },
  "language_info": {
   "codemirror_mode": {
    "name": "ipython",
    "version": 3
   },
   "file_extension": ".py",
   "mimetype": "text/x-python",
   "name": "python",
   "nbconvert_exporter": "python",
   "pygments_lexer": "ipython3",
   "version": "3.7.5"
  }
 },
 "nbformat": 4,
 "nbformat_minor": 1
}
