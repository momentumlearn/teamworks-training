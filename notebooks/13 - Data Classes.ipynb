{
 "cells": [
  {
   "cell_type": "markdown",
   "metadata": {},
   "source": [
    "Classes are useful, but we have a lot of work we have to do to make them fully functional."
   ]
  },
  {
   "cell_type": "code",
   "execution_count": 31,
   "metadata": {},
   "outputs": [],
   "source": [
    "# A set of classes for planning a conference.\n",
    "\n",
    "class Attendee:\n",
    "    def __init__(self, name, email):\n",
    "        self.name = name\n",
    "        self.email = email\n",
    "        self.checked_in = False\n",
    "        \n",
    "    def badge_text(self):\n",
    "        return self.name\n",
    "    \n",
    "    def check_in(self):\n",
    "        self.checked_in = True"
   ]
  },
  {
   "cell_type": "code",
   "execution_count": 32,
   "metadata": {},
   "outputs": [
    {
     "data": {
      "text/plain": [
       "False"
      ]
     },
     "execution_count": 32,
     "metadata": {},
     "output_type": "execute_result"
    }
   ],
   "source": [
    "attendee1 = Attendee(\"Dorian\", \"dorian@example.org\")\n",
    "attendee2 = Attendee(\"Dorian\", \"dorian@example.org\")\n",
    "attendee1 == attendee2 # Shouldn't this be True?"
   ]
  },
  {
   "cell_type": "code",
   "execution_count": 33,
   "metadata": {},
   "outputs": [
    {
     "data": {
      "text/plain": [
       "<__main__.Attendee at 0x10731c0f0>"
      ]
     },
     "execution_count": 33,
     "metadata": {},
     "output_type": "execute_result"
    }
   ],
   "source": [
    "attendee1 # This is kind of gross"
   ]
  },
  {
   "cell_type": "markdown",
   "metadata": {},
   "source": [
    "Data classes are a new feature in Python 3.7 that define a lot of built-in behavior that we'd expect. `__init__`, `__repr__`, and `__eq__` are defined by default."
   ]
  },
  {
   "cell_type": "code",
   "execution_count": 34,
   "metadata": {},
   "outputs": [],
   "source": [
    "from dataclasses import dataclass"
   ]
  },
  {
   "cell_type": "code",
   "execution_count": 35,
   "metadata": {},
   "outputs": [],
   "source": [
    "@dataclass\n",
    "class Attendee:\n",
    "    name: str\n",
    "    email: str\n",
    "    checked_in: bool = False\n",
    "        \n",
    "    def badge_text(self):\n",
    "        return self.name\n",
    "    \n",
    "    def check_in(self):\n",
    "        self.checked_in = True"
   ]
  },
  {
   "cell_type": "code",
   "execution_count": 36,
   "metadata": {},
   "outputs": [
    {
     "data": {
      "text/plain": [
       "True"
      ]
     },
     "execution_count": 36,
     "metadata": {},
     "output_type": "execute_result"
    }
   ],
   "source": [
    "attendee1 = Attendee(\"Dorian\", \"dorian@example.org\")\n",
    "attendee2 = Attendee(\"Dorian\", \"dorian@example.org\")\n",
    "attendee1 == attendee2 # Shouldn't this be True?"
   ]
  },
  {
   "cell_type": "code",
   "execution_count": 37,
   "metadata": {},
   "outputs": [
    {
     "data": {
      "text/plain": [
       "Attendee(name='Dorian', email='dorian@example.org', checked_in=False)"
      ]
     },
     "execution_count": 37,
     "metadata": {},
     "output_type": "execute_result"
    }
   ],
   "source": [
    "attendee1"
   ]
  },
  {
   "cell_type": "markdown",
   "metadata": {},
   "source": [
    "You can read more about data classes at https://realpython.com/python-data-classes/ and https://docs.python.org/3/library/dataclasses.html."
   ]
  }
 ],
 "metadata": {
  "kernelspec": {
   "display_name": "Python 3",
   "language": "python",
   "name": "python3"
  },
  "language_info": {
   "codemirror_mode": {
    "name": "ipython",
    "version": 3
   },
   "file_extension": ".py",
   "mimetype": "text/x-python",
   "name": "python",
   "nbconvert_exporter": "python",
   "pygments_lexer": "ipython3",
   "version": "3.7.5"
  }
 },
 "nbformat": 4,
 "nbformat_minor": 2
}
