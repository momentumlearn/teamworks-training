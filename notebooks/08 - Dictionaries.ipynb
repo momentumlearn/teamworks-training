{
 "cells": [
  {
   "cell_type": "markdown",
   "metadata": {},
   "source": [
    "Dictionaries are another type of sequence. They map keys to values, like a two-column table."
   ]
  },
  {
   "cell_type": "markdown",
   "metadata": {},
   "source": [
    "<table>\n",
    "    <tr>\n",
    "        <th>Key</th>\n",
    "        <th>Value</th>\n",
    "    </tr>\n",
    "    <tr>\n",
    "        <td>\"Avery\"</td>\n",
    "        <td>\"B\"</td>\n",
    "    </tr>\n",
    "    <tr>\n",
    "        <td>\"Kerry\"</td>\n",
    "        <td>\"A\"</td>\n",
    "    </tr>\n",
    "    <tr>\n",
    "        <td>\"Gale\"</td>\n",
    "        <td>\"B\"</td>\n",
    "    </tr>\n",
    "</table>"
   ]
  },
  {
   "cell_type": "markdown",
   "metadata": {},
   "source": [
    "There are a lot of ways to create dictionaries."
   ]
  },
  {
   "cell_type": "code",
   "execution_count": 4,
   "metadata": {},
   "outputs": [
    {
     "data": {
      "text/plain": [
       "True"
      ]
     },
     "execution_count": 4,
     "metadata": {},
     "output_type": "execute_result"
    }
   ],
   "source": [
    "a = {\n",
    "    'one': 1, \n",
    "    'two': 2, \n",
    "    'three': 3,\n",
    "}\n",
    "\n",
    "\n",
    "b = dict(one=1, two=2, three=3)\n",
    "\n",
    "c = dict([('two', 2), ('one', 1), ('three', 3)])\n",
    "\n",
    "a == b == c"
   ]
  },
  {
   "cell_type": "markdown",
   "metadata": {},
   "source": [
    "As you'd expect, the values in dictionaries can be any object."
   ]
  },
  {
   "cell_type": "code",
   "execution_count": 2,
   "metadata": {},
   "outputs": [
    {
     "data": {
      "text/plain": [
       "{'Jordan': {'Homework 1': 92, 'Homework 2': 87},\n",
       " 'Gale': {'Homework 1': 88, 'Homework 2': 76},\n",
       " 'River': {'Homework 1': 85, 'Homework 2': 91}}"
      ]
     },
     "execution_count": 2,
     "metadata": {},
     "output_type": "execute_result"
    }
   ],
   "source": [
    "{'Jordan': {'Homework 1': 92,\n",
    "            'Homework 2': 87},\n",
    " 'Gale': {'Homework 1': 88,\n",
    "          'Homework 2': 76},\n",
    " 'River': {'Homework 1': 85,\n",
    "           'Homework 2': 91}}"
   ]
  },
  {
   "cell_type": "markdown",
   "metadata": {},
   "source": [
    "## Dictionary methods"
   ]
  },
  {
   "cell_type": "markdown",
   "metadata": {},
   "source": [
    "Dictionaries have the methods all sequences have, but they also have their own specific methods.\n",
    "\n",
    "We reference values in a dictionary using square brackets, just like we do with lists."
   ]
  },
  {
   "cell_type": "code",
   "execution_count": 6,
   "metadata": {},
   "outputs": [],
   "source": [
    "student_roster = {'Jordan': {'Homework 1': 92,\n",
    "                             'Homework 2': 87},\n",
    "                  'Gale': {'Homework 1': 88,\n",
    "                           'Homework 2': 76},\n",
    "                  'River': {'Homework 1': 85,\n",
    "                            'Homework 2': 91}}"
   ]
  },
  {
   "cell_type": "code",
   "execution_count": 7,
   "metadata": {},
   "outputs": [
    {
     "data": {
      "text/plain": [
       "{'Homework 1': 92, 'Homework 2': 87}"
      ]
     },
     "execution_count": 7,
     "metadata": {},
     "output_type": "execute_result"
    }
   ],
   "source": [
    "student_roster['Jordan']"
   ]
  },
  {
   "cell_type": "code",
   "execution_count": 8,
   "metadata": {},
   "outputs": [
    {
     "data": {
      "text/plain": [
       "92"
      ]
     },
     "execution_count": 8,
     "metadata": {},
     "output_type": "execute_result"
    }
   ],
   "source": [
    "student_roster['Jordan']['Homework 1']"
   ]
  },
  {
   "cell_type": "code",
   "execution_count": 9,
   "metadata": {},
   "outputs": [
    {
     "name": "stdout",
     "output_type": "stream",
     "text": [
      "{'Jordan': {'Homework 1': 92, 'Homework 2': 87}, 'Gale': {'Homework 1': 88, 'Homework 2': 76}, 'River': {'Homework 1': 85, 'Homework 2': 91}, 'Peyton': {'Homework 1': 84, 'Homework 2': 77}}\n"
     ]
    }
   ],
   "source": [
    "student_roster['Peyton'] = {'Homework 1': 84,\n",
    "                            'Homework 2': 77}\n",
    "print(student_roster)"
   ]
  },
  {
   "cell_type": "code",
   "execution_count": 10,
   "metadata": {},
   "outputs": [
    {
     "data": {
      "text/plain": [
       "{'Jordan': {'Homework 1': 92, 'Homework 2': 87},\n",
       " 'River': {'Homework 1': 85, 'Homework 2': 91},\n",
       " 'Peyton': {'Homework 1': 84, 'Homework 2': 77}}"
      ]
     },
     "execution_count": 10,
     "metadata": {},
     "output_type": "execute_result"
    }
   ],
   "source": [
    "del student_roster['Gale']\n",
    "student_roster"
   ]
  },
  {
   "cell_type": "code",
   "execution_count": 11,
   "metadata": {},
   "outputs": [
    {
     "ename": "KeyError",
     "evalue": "'Clinton'",
     "output_type": "error",
     "traceback": [
      "\u001b[0;31m---------------------------------------------------------------------------\u001b[0m",
      "\u001b[0;31mKeyError\u001b[0m                                  Traceback (most recent call last)",
      "\u001b[0;32m<ipython-input-11-8d016508c9a8>\u001b[0m in \u001b[0;36m<module>\u001b[0;34m\u001b[0m\n\u001b[0;32m----> 1\u001b[0;31m \u001b[0mstudent_roster\u001b[0m\u001b[0;34m[\u001b[0m\u001b[0;34m'Clinton'\u001b[0m\u001b[0;34m]\u001b[0m\u001b[0;34m\u001b[0m\u001b[0;34m\u001b[0m\u001b[0m\n\u001b[0m",
      "\u001b[0;31mKeyError\u001b[0m: 'Clinton'"
     ]
    }
   ],
   "source": [
    "student_roster['Clinton']"
   ]
  },
  {
   "cell_type": "code",
   "execution_count": 12,
   "metadata": {},
   "outputs": [
    {
     "data": {
      "text/plain": [
       "dict_keys(['Jordan', 'River', 'Peyton'])"
      ]
     },
     "execution_count": 12,
     "metadata": {},
     "output_type": "execute_result"
    }
   ],
   "source": [
    "student_roster.keys()"
   ]
  },
  {
   "cell_type": "code",
   "execution_count": 13,
   "metadata": {},
   "outputs": [
    {
     "data": {
      "text/plain": [
       "dict_values([{'Homework 1': 92, 'Homework 2': 87}, {'Homework 1': 85, 'Homework 2': 91}, {'Homework 1': 84, 'Homework 2': 77}])"
      ]
     },
     "execution_count": 13,
     "metadata": {},
     "output_type": "execute_result"
    }
   ],
   "source": [
    "student_roster.values()"
   ]
  },
  {
   "cell_type": "code",
   "execution_count": 14,
   "metadata": {},
   "outputs": [
    {
     "data": {
      "text/plain": [
       "{'Homework 1': 85, 'Homework 2': 91}"
      ]
     },
     "execution_count": 14,
     "metadata": {},
     "output_type": "execute_result"
    }
   ],
   "source": [
    "student_roster.get('River')"
   ]
  },
  {
   "cell_type": "code",
   "execution_count": 15,
   "metadata": {},
   "outputs": [
    {
     "name": "stdout",
     "output_type": "stream",
     "text": [
      "None\n"
     ]
    }
   ],
   "source": [
    "print(student_roster.get('Marion'))"
   ]
  },
  {
   "cell_type": "code",
   "execution_count": 16,
   "metadata": {},
   "outputs": [
    {
     "ename": "KeyError",
     "evalue": "'Marion'",
     "output_type": "error",
     "traceback": [
      "\u001b[0;31m---------------------------------------------------------------------------\u001b[0m",
      "\u001b[0;31mKeyError\u001b[0m                                  Traceback (most recent call last)",
      "\u001b[0;32m<ipython-input-16-baf474dcd6d6>\u001b[0m in \u001b[0;36m<module>\u001b[0;34m\u001b[0m\n\u001b[1;32m      1\u001b[0m \u001b[0;31m# What's the difference between this and .get?\u001b[0m\u001b[0;34m\u001b[0m\u001b[0;34m\u001b[0m\u001b[0;34m\u001b[0m\u001b[0m\n\u001b[0;32m----> 2\u001b[0;31m \u001b[0mstudent_roster\u001b[0m\u001b[0;34m[\u001b[0m\u001b[0;34m'Marion'\u001b[0m\u001b[0;34m]\u001b[0m\u001b[0;34m\u001b[0m\u001b[0;34m\u001b[0m\u001b[0m\n\u001b[0m",
      "\u001b[0;31mKeyError\u001b[0m: 'Marion'"
     ]
    }
   ],
   "source": [
    "# What's the difference between this and .get?\n",
    "student_roster['Marion']"
   ]
  },
  {
   "cell_type": "code",
   "execution_count": 17,
   "metadata": {},
   "outputs": [
    {
     "data": {
      "text/plain": [
       "{}"
      ]
     },
     "execution_count": 17,
     "metadata": {},
     "output_type": "execute_result"
    }
   ],
   "source": [
    "student_roster.get('Marion', {})"
   ]
  },
  {
   "cell_type": "code",
   "execution_count": 18,
   "metadata": {},
   "outputs": [
    {
     "data": {
      "text/plain": [
       "False"
      ]
     },
     "execution_count": 18,
     "metadata": {},
     "output_type": "execute_result"
    }
   ],
   "source": [
    "'Marion' in student_roster"
   ]
  },
  {
   "cell_type": "code",
   "execution_count": 19,
   "metadata": {},
   "outputs": [
    {
     "data": {
      "text/plain": [
       "True"
      ]
     },
     "execution_count": 19,
     "metadata": {},
     "output_type": "execute_result"
    }
   ],
   "source": [
    "'River' in student_roster"
   ]
  },
  {
   "cell_type": "markdown",
   "metadata": {},
   "source": [
    "## Dictionaries and for loops"
   ]
  },
  {
   "cell_type": "markdown",
   "metadata": {},
   "source": [
    "How do dictionaries work with for loops?"
   ]
  },
  {
   "cell_type": "code",
   "execution_count": 20,
   "metadata": {},
   "outputs": [
    {
     "name": "stdout",
     "output_type": "stream",
     "text": [
      "Jordan\n",
      "River\n",
      "Peyton\n"
     ]
    }
   ],
   "source": [
    "for thing in student_roster:\n",
    "    print(thing)"
   ]
  },
  {
   "cell_type": "markdown",
   "metadata": {},
   "source": [
    "That wasn't enough. How do we get the value?"
   ]
  },
  {
   "cell_type": "code",
   "execution_count": 21,
   "metadata": {},
   "outputs": [
    {
     "name": "stdout",
     "output_type": "stream",
     "text": [
      "Jordan {'Homework 1': 92, 'Homework 2': 87}\n",
      "River {'Homework 1': 85, 'Homework 2': 91}\n",
      "Peyton {'Homework 1': 84, 'Homework 2': 77}\n"
     ]
    }
   ],
   "source": [
    "for student in student_roster:\n",
    "    print(student, student_roster[student])"
   ]
  },
  {
   "cell_type": "code",
   "execution_count": 22,
   "metadata": {},
   "outputs": [
    {
     "data": {
      "text/plain": [
       "dict_items([('Jordan', {'Homework 1': 92, 'Homework 2': 87}), ('River', {'Homework 1': 85, 'Homework 2': 91}), ('Peyton', {'Homework 1': 84, 'Homework 2': 77})])"
      ]
     },
     "execution_count": 22,
     "metadata": {},
     "output_type": "execute_result"
    }
   ],
   "source": [
    "student_roster.items()"
   ]
  },
  {
   "cell_type": "code",
   "execution_count": 23,
   "metadata": {},
   "outputs": [
    {
     "name": "stdout",
     "output_type": "stream",
     "text": [
      "Jordan {'Homework 1': 92, 'Homework 2': 87}\n",
      "River {'Homework 1': 85, 'Homework 2': 91}\n",
      "Peyton {'Homework 1': 84, 'Homework 2': 77}\n"
     ]
    }
   ],
   "source": [
    "# Much easier on the eyes\n",
    "for student, grades in student_roster.items():\n",
    "    print(student, grades)"
   ]
  },
  {
   "cell_type": "code",
   "execution_count": 26,
   "metadata": {},
   "outputs": [
    {
     "name": "stdout",
     "output_type": "stream",
     "text": [
      "Jordan\n",
      "Homework 1 92\n",
      "Homework 2 87\n",
      "River\n",
      "Homework 1 85\n",
      "Homework 2 91\n",
      "Peyton\n",
      "Homework 1 84\n",
      "Homework 2 77\n"
     ]
    }
   ],
   "source": [
    "# Much easier on the eyes\n",
    "for student, grades in student_roster.items():\n",
    "    print(student)\n",
    "    for assignment, score in grades.items():\n",
    "        print(assignment, score)"
   ]
  },
  {
   "cell_type": "code",
   "execution_count": 25,
   "metadata": {},
   "outputs": [
    {
     "name": "stdout",
     "output_type": "stream",
     "text": [
      "student_roster {'Jordan': {'Homework 1': 92, 'Homework 2': 87}, 'River': {'Homework 1': 85, 'Homework 2': 91}, 'Peyton': {'Homework 1': 84, 'Homework 2': 77}}\n",
      "student Jordan\n",
      "grades {'Homework 1': 92, 'Homework 2': 87}\n",
      "grades['Homework 1'] 92\n",
      "student River\n",
      "grades {'Homework 1': 85, 'Homework 2': 91}\n",
      "grades['Homework 1'] 85\n",
      "student Peyton\n",
      "grades {'Homework 1': 84, 'Homework 2': 77}\n",
      "grades['Homework 1'] 84\n",
      "[92, 85, 84]\n"
     ]
    }
   ],
   "source": [
    "# How do I get all scores for Homework 1?\n",
    "\n",
    "hw_scores = []\n",
    "print(\"student_roster\", student_roster)\n",
    "for student, grades in student_roster.items():\n",
    "    print(\"student\", student)\n",
    "    print(\"grades\", grades)\n",
    "    print(\"grades['Homework 1']\", grades['Homework 1'])\n",
    "    hw_scores.append(grades['Homework 1'])\n",
    "print(hw_scores)"
   ]
  },
  {
   "cell_type": "code",
   "execution_count": null,
   "metadata": {},
   "outputs": [],
   "source": []
  }
 ],
 "metadata": {
  "kernelspec": {
   "display_name": "Python 3",
   "language": "python",
   "name": "python3"
  },
  "language_info": {
   "codemirror_mode": {
    "name": "ipython",
    "version": 3
   },
   "file_extension": ".py",
   "mimetype": "text/x-python",
   "name": "python",
   "nbconvert_exporter": "python",
   "pygments_lexer": "ipython3",
   "version": "3.7.5"
  }
 },
 "nbformat": 4,
 "nbformat_minor": 1
}
