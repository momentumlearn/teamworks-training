{
 "cells": [
  {
   "cell_type": "markdown",
   "metadata": {},
   "source": [
    "Dictionaries are another type of sequence. They map keys to values, like a two-column table."
   ]
  },
  {
   "cell_type": "markdown",
   "metadata": {},
   "source": [
    "<table>\n",
    "    <tr>\n",
    "        <th>Key</th>\n",
    "        <th>Value</th>\n",
    "    </tr>\n",
    "    <tr>\n",
    "        <td>\"Avery\"</td>\n",
    "        <td>\"B\"</td>\n",
    "    </tr>\n",
    "    <tr>\n",
    "        <td>\"Kerry\"</td>\n",
    "        <td>\"A\"</td>\n",
    "    </tr>\n",
    "    <tr>\n",
    "        <td>\"Gale\"</td>\n",
    "        <td>\"B\"</td>\n",
    "    </tr>\n",
    "</table>"
   ]
  },
  {
   "cell_type": "markdown",
   "metadata": {},
   "source": [
    "There are a lot of ways to create dictionaries."
   ]
  },
  {
   "cell_type": "code",
   "execution_count": null,
   "metadata": {},
   "outputs": [],
   "source": [
    "a = {\n",
    "    'one': 1, \n",
    "    'two': 2, \n",
    "    'three': 3,\n",
    "}\n",
    "\n",
    "\n",
    "b = dict(one=1, two=2, three=3)\n",
    "\n",
    "c = dict([('two', 2), ('one', 1), ('three', 3)])\n",
    "\n",
    "a == b == c"
   ]
  },
  {
   "cell_type": "markdown",
   "metadata": {},
   "source": [
    "As you'd expect, the values in dictionaries can be any object."
   ]
  },
  {
   "cell_type": "code",
   "execution_count": null,
   "metadata": {},
   "outputs": [],
   "source": [
    "{'Jordan': {'Homework 1': 92,\n",
    "            'Homework 2': 87},\n",
    " 'Gale': {'Homework 1': 88,\n",
    "          'Homework 2': 76},\n",
    " 'River': {'Homework 1': 85,\n",
    "           'Homework 2': 91}}"
   ]
  },
  {
   "cell_type": "markdown",
   "metadata": {},
   "source": [
    "## Dictionary methods"
   ]
  },
  {
   "cell_type": "markdown",
   "metadata": {},
   "source": [
    "Dictionaries have the methods all sequences have, but they also have their own specific methods.\n",
    "\n",
    "We reference values in a dictionary using square brackets, just like we do with lists."
   ]
  },
  {
   "cell_type": "code",
   "execution_count": null,
   "metadata": {},
   "outputs": [],
   "source": [
    "student_roster = {'Jordan': {'Homework 1': 92,\n",
    "                             'Homework 2': 87},\n",
    "                  'Gale': {'Homework 1': 88,\n",
    "                           'Homework 2': 76},\n",
    "                  'River': {'Homework 1': 85,\n",
    "                            'Homework 2': 91}}"
   ]
  },
  {
   "cell_type": "code",
   "execution_count": null,
   "metadata": {},
   "outputs": [],
   "source": [
    "student_roster['Jordan']"
   ]
  },
  {
   "cell_type": "code",
   "execution_count": null,
   "metadata": {},
   "outputs": [],
   "source": [
    "student_roster['Jordan']['Homework 1']"
   ]
  },
  {
   "cell_type": "code",
   "execution_count": null,
   "metadata": {},
   "outputs": [],
   "source": [
    "student_roster['Peyton'] = {'Homework 1': 84,\n",
    "                            'Homework 2': 77}\n",
    "print(student_roster)"
   ]
  },
  {
   "cell_type": "code",
   "execution_count": null,
   "metadata": {},
   "outputs": [],
   "source": [
    "del student_roster['Gale']\n",
    "student_roster"
   ]
  },
  {
   "cell_type": "code",
   "execution_count": null,
   "metadata": {},
   "outputs": [],
   "source": [
    "student_roster['Clinton']"
   ]
  },
  {
   "cell_type": "code",
   "execution_count": null,
   "metadata": {},
   "outputs": [],
   "source": [
    "student_roster.keys()"
   ]
  },
  {
   "cell_type": "code",
   "execution_count": null,
   "metadata": {},
   "outputs": [],
   "source": [
    "student_roster.values()"
   ]
  },
  {
   "cell_type": "code",
   "execution_count": null,
   "metadata": {},
   "outputs": [],
   "source": [
    "student_roster.get('River')"
   ]
  },
  {
   "cell_type": "code",
   "execution_count": null,
   "metadata": {},
   "outputs": [],
   "source": [
    "print(student_roster.get('Marion'))"
   ]
  },
  {
   "cell_type": "code",
   "execution_count": null,
   "metadata": {},
   "outputs": [],
   "source": [
    "# What's the difference between this and .get?\n",
    "student_roster['Marion']"
   ]
  },
  {
   "cell_type": "code",
   "execution_count": null,
   "metadata": {},
   "outputs": [],
   "source": [
    "student_roster.get('Marion', {})"
   ]
  },
  {
   "cell_type": "code",
   "execution_count": null,
   "metadata": {},
   "outputs": [],
   "source": [
    "'Marion' in student_roster"
   ]
  },
  {
   "cell_type": "code",
   "execution_count": null,
   "metadata": {},
   "outputs": [],
   "source": [
    "'River' in student_roster"
   ]
  },
  {
   "cell_type": "markdown",
   "metadata": {},
   "source": [
    "## Dictionaries and for loops"
   ]
  },
  {
   "cell_type": "markdown",
   "metadata": {},
   "source": [
    "How do dictionaries work with for loops?"
   ]
  },
  {
   "cell_type": "code",
   "execution_count": null,
   "metadata": {},
   "outputs": [],
   "source": [
    "for thing in student_roster:\n",
    "    print(thing)"
   ]
  },
  {
   "cell_type": "markdown",
   "metadata": {},
   "source": [
    "That wasn't enough. How do we get the value?"
   ]
  },
  {
   "cell_type": "code",
   "execution_count": null,
   "metadata": {},
   "outputs": [],
   "source": [
    "for student in student_roster:\n",
    "    print(student, student_roster[student])"
   ]
  },
  {
   "cell_type": "code",
   "execution_count": null,
   "metadata": {},
   "outputs": [],
   "source": [
    "student_roster.items()"
   ]
  },
  {
   "cell_type": "code",
   "execution_count": null,
   "metadata": {},
   "outputs": [],
   "source": [
    "# Much easier on the eyes\n",
    "for student, grades in student_roster.items():\n",
    "    print(student, grades)"
   ]
  },
  {
   "cell_type": "code",
   "execution_count": null,
   "metadata": {},
   "outputs": [],
   "source": [
    "# Much easier on the eyes\n",
    "for student, grades in student_roster.items():\n",
    "    print(student)\n",
    "    for assignment, score in grades.items():\n",
    "        print(assignment, score)"
   ]
  },
  {
   "cell_type": "code",
   "execution_count": null,
   "metadata": {},
   "outputs": [],
   "source": [
    "# How do I get all scores for Homework 1?\n",
    "\n",
    "hw_scores = []\n",
    "print(\"student_roster\", student_roster)\n",
    "for student, grades in student_roster.items():\n",
    "    print(\"student\", student)\n",
    "    print(\"grades\", grades)\n",
    "    print(\"grades['Homework 1']\", grades['Homework 1'])\n",
    "    hw_scores.append(grades['Homework 1'])\n",
    "print(hw_scores)"
   ]
  }
 ],
 "metadata": {
  "kernelspec": {
   "display_name": "Python 3",
   "language": "python",
   "name": "python3"
  },
  "language_info": {
   "codemirror_mode": {
    "name": "ipython",
    "version": 3
   },
   "file_extension": ".py",
   "mimetype": "text/x-python",
   "name": "python",
   "nbconvert_exporter": "python",
   "pygments_lexer": "ipython3",
   "version": "3.7.5"
  }
 },
 "nbformat": 4,
 "nbformat_minor": 1
}
