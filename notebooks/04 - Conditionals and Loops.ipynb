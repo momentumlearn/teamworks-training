{
 "cells": [
  {
   "cell_type": "markdown",
   "metadata": {},
   "source": [
    "# if statements"
   ]
  },
  {
   "cell_type": "markdown",
   "metadata": {},
   "source": [
    "`if` statements work like you may have seen in other languages, but with some syntactic differences. \n",
    "\n",
    "- There are no parentheses around the conditional.\n",
    "- Instead of `else if`, we write `elif`.\n",
    "- We use indentation instead of curly braces to make code blocks."
   ]
  },
  {
   "cell_type": "markdown",
   "metadata": {},
   "source": [
    "Let's write a program to print some information about a user based on their age."
   ]
  },
  {
   "cell_type": "code",
   "execution_count": 3,
   "metadata": {},
   "outputs": [
    {
     "name": "stdout",
     "output_type": "stream",
     "text": [
      "What is your age? 43\n",
      "You are an adult.\n",
      "You are allowed to vote.\n"
     ]
    }
   ],
   "source": [
    "age_as_a_string = input(\"What is your age? \")\n",
    "age = int(age_as_a_string)\n",
    "if age >= 18:\n",
    "    print(\"You are an adult.\")\n",
    "    print(\"You are allowed to vote.\")\n",
    "else:\n",
    "    print(\"You are not allowed to vote.\")"
   ]
  },
  {
   "cell_type": "markdown",
   "metadata": {},
   "source": [
    "`if` statements can have more than two options, using the `elif` keyword."
   ]
  },
  {
   "cell_type": "code",
   "execution_count": 6,
   "metadata": {},
   "outputs": [
    {
     "name": "stdout",
     "output_type": "stream",
     "text": [
      "What is your age? 8\n",
      "You are not allowed to vote or drink.\n"
     ]
    }
   ],
   "source": [
    "age = int(input(\"What is your age? \"))\n",
    "if age >= 21:\n",
    "    print(\"You are allowed to vote and drink.\")\n",
    "elif age >= 18:\n",
    "    print(\"You are allowed to vote, but not drink.\")\n",
    "else:\n",
    "    print(\"You are not allowed to vote or drink.\")"
   ]
  },
  {
   "cell_type": "code",
   "execution_count": null,
   "metadata": {},
   "outputs": [],
   "source": [
    "likes_crispy_crust = input(\"Do you like a crispy crust? \")\n",
    "if likes_crispy_crust == \"y\":\n",
    "    print(\"Cool!\")"
   ]
  },
  {
   "cell_type": "markdown",
   "metadata": {},
   "source": [
    "# while statements"
   ]
  },
  {
   "cell_type": "markdown",
   "metadata": {},
   "source": [
    "Here's a simple problem: print out all the numbers from 1 to 10."
   ]
  },
  {
   "cell_type": "code",
   "execution_count": 7,
   "metadata": {},
   "outputs": [
    {
     "name": "stdout",
     "output_type": "stream",
     "text": [
      "1\n",
      "2\n",
      "3\n",
      "4\n",
      "5\n",
      "6\n",
      "7\n",
      "8\n",
      "9\n",
      "10\n",
      "Done!\n"
     ]
    }
   ],
   "source": [
    "i = 1\n",
    "while i <= 10:\n",
    "    print(i)\n",
    "    i = i + 1\n",
    "print(\"Done!\")"
   ]
  },
  {
   "cell_type": "code",
   "execution_count": 8,
   "metadata": {},
   "outputs": [
    {
     "name": "stdout",
     "output_type": "stream",
     "text": [
      "Enter your name or 'Q' if you want to quit: Clinton\n",
      "Hi Clinton\n",
      "Enter your name or 'Q' if you want to quit: Sam\n",
      "Hi Sam\n",
      "Enter your name or 'Q' if you want to quit: Q\n",
      "Done!\n"
     ]
    }
   ],
   "source": [
    "quit = False\n",
    "while not quit:\n",
    "    user_input = input(\"Enter your name or 'Q' if you want to quit: \")\n",
    "    if user_input == \"Q\":\n",
    "        quit = True\n",
    "        print(\"Done!\")\n",
    "    else:\n",
    "        print(\"Hi\", user_input)"
   ]
  },
  {
   "cell_type": "code",
   "execution_count": null,
   "metadata": {},
   "outputs": [],
   "source": [
    "keep_going = True\n",
    "while keep_going:\n",
    "    user_input = input(\"Enter your name or hit enter if you want to quit: \")\n",
    "    if user_input != \"\":\n",
    "        print(\"Hi\", user_input)\n",
    "    else:\n",
    "        keep_going = False\n",
    "        \n",
    "print(\"Done!\")"
   ]
  },
  {
   "cell_type": "markdown",
   "metadata": {},
   "source": [
    "# Complex logic"
   ]
  },
  {
   "cell_type": "markdown",
   "metadata": {},
   "source": [
    "You can use `and` and `or` (instead of `&&` and `||`) to combine predicates in `if` and `while` statements."
   ]
  },
  {
   "cell_type": "code",
   "execution_count": 10,
   "metadata": {},
   "outputs": [
    {
     "name": "stdout",
     "output_type": "stream",
     "text": [
      "What is your age? 43\n",
      "What is your name? Harper\n",
      "You are wise.\n"
     ]
    }
   ],
   "source": [
    "age = int(input(\"What is your age? \"))\n",
    "name = input(\"What is your name? \")\n",
    "if name == \"Harper\" or age > 50:\n",
    "    print(\"You are wise.\")"
   ]
  },
  {
   "cell_type": "code",
   "execution_count": 11,
   "metadata": {},
   "outputs": [
    {
     "name": "stdout",
     "output_type": "stream",
     "text": [
      "What is your age? 43\n",
      "What is your name? Harper\n"
     ]
    }
   ],
   "source": [
    "age = int(input(\"What is your age? \"))\n",
    "name = input(\"What is your name? \")\n",
    "if name == \"Harper\" and age > 50:\n",
    "    print(\"Entrance into the halls of yore is granted.\")"
   ]
  },
  {
   "cell_type": "markdown",
   "metadata": {},
   "source": [
    "## Truth tables"
   ]
  },
  {
   "cell_type": "code",
   "execution_count": 12,
   "metadata": {},
   "outputs": [
    {
     "name": "stdout",
     "output_type": "stream",
     "text": [
      "T or T True\n",
      "T or F True\n",
      "F or T True\n",
      "F or F False\n"
     ]
    }
   ],
   "source": [
    "print(\"T or T\", True or True)\n",
    "print(\"T or F\", True or False)\n",
    "print(\"F or T\", False or True)\n",
    "print(\"F or F\", False or False)"
   ]
  },
  {
   "cell_type": "code",
   "execution_count": 13,
   "metadata": {},
   "outputs": [
    {
     "name": "stdout",
     "output_type": "stream",
     "text": [
      "T and T True\n",
      "T and F False\n",
      "F and T False\n",
      "F and F False\n"
     ]
    }
   ],
   "source": [
    "print(\"T and T\", True and True)\n",
    "print(\"T and F\", True and False)\n",
    "print(\"F and T\", False and True)\n",
    "print(\"F and F\", False and False)"
   ]
  }
 ],
 "metadata": {
  "kernelspec": {
   "display_name": "Python 3",
   "language": "python",
   "name": "python3"
  },
  "language_info": {
   "codemirror_mode": {
    "name": "ipython",
    "version": 3
   },
   "file_extension": ".py",
   "mimetype": "text/x-python",
   "name": "python",
   "nbconvert_exporter": "python",
   "pygments_lexer": "ipython3",
   "version": "3.7.5"
  }
 },
 "nbformat": 4,
 "nbformat_minor": 1
}
