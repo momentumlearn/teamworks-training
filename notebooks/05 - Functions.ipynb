{
 "cells": [
  {
   "cell_type": "markdown",
   "metadata": {},
   "source": [
    "# Functions"
   ]
  },
  {
   "cell_type": "markdown",
   "metadata": {},
   "source": [
    "Functions are ways to take code and turn it into a reusable template. We use the keyword `def` in Python to declare a function."
   ]
  },
  {
   "cell_type": "code",
   "execution_count": 1,
   "metadata": {},
   "outputs": [
    {
     "name": "stdout",
     "output_type": "stream",
     "text": [
      "12.56636\n",
      "62.8318\n"
     ]
    }
   ],
   "source": [
    "pi = 3.14159\n",
    "\n",
    "def circumference(radius):\n",
    "    \"\"\"Given the radius of a circle, return the circumference.\"\"\"\n",
    "    return radius * 2 * pi\n",
    "\n",
    "print(circumference(2))\n",
    "print(circumference(10))"
   ]
  },
  {
   "cell_type": "code",
   "execution_count": 2,
   "metadata": {},
   "outputs": [
    {
     "name": "stdout",
     "output_type": "stream",
     "text": [
      "62.8318\n"
     ]
    }
   ],
   "source": [
    "tube_size = 10\n",
    "tube_circumference = circumference(tube_size)\n",
    "print(tube_circumference)"
   ]
  },
  {
   "cell_type": "code",
   "execution_count": 3,
   "metadata": {},
   "outputs": [
    {
     "name": "stdout",
     "output_type": "stream",
     "text": [
      "What's your tube size? 20\n",
      "Your tube circumference is 125.6636\n"
     ]
    }
   ],
   "source": [
    "tube_size = float(input(\"What's your tube size? \"))\n",
    "print(\"Your tube circumference is\", circumference(tube_size))"
   ]
  },
  {
   "cell_type": "code",
   "execution_count": 8,
   "metadata": {},
   "outputs": [
    {
     "name": "stdout",
     "output_type": "stream",
     "text": [
      "12\n",
      "3\n"
     ]
    }
   ],
   "source": [
    "pi = 3.14159\n",
    "\n",
    "def circumference(radius):\n",
    "    \"\"\"Given the radius of a circle, return the circumference.\"\"\"\n",
    "    global pi # This is a bad idea!\n",
    "    pi = 3\n",
    "    return radius * 2 * pi\n",
    "\n",
    "print(circumference(2))\n",
    "print(pi)"
   ]
  },
  {
   "cell_type": "code",
   "execution_count": null,
   "metadata": {},
   "outputs": [],
   "source": [
    "help(circumference)"
   ]
  },
  {
   "cell_type": "markdown",
   "metadata": {},
   "source": [
    "Functions have a name, parameters, a docstring, and a return value. Parameters are in parentheses after the name. You can think of them as the blank spots in the template. Their values get filled in when the function is later called. There can be more than one parameter.\n",
    "\n",
    "The return value is defined by using the `return` keyword. It is the value that the function will return when called."
   ]
  },
  {
   "cell_type": "code",
   "execution_count": 9,
   "metadata": {},
   "outputs": [
    {
     "name": "stdout",
     "output_type": "stream",
     "text": [
      "width 5\n",
      "height 8\n",
      "40\n"
     ]
    }
   ],
   "source": [
    "def rectangle_area(width, height):\n",
    "    \"\"\"Given the width and height of a rectangle, return the area.\"\"\"\n",
    "    print(\"width\", width)\n",
    "    print(\"height\", height)\n",
    "    return width * height\n",
    "\n",
    "print(rectangle_area(5, 8))"
   ]
  },
  {
   "cell_type": "markdown",
   "metadata": {},
   "source": [
    "When you call a function, the values you give it are called _arguments_. You can specify them in order, like we just did, or by name."
   ]
  },
  {
   "cell_type": "code",
   "execution_count": 10,
   "metadata": {},
   "outputs": [
    {
     "name": "stdout",
     "output_type": "stream",
     "text": [
      "width 5\n",
      "height 8\n",
      "40\n"
     ]
    }
   ],
   "source": [
    "print(rectangle_area(height=8, width=5))"
   ]
  },
  {
   "cell_type": "markdown",
   "metadata": {},
   "source": [
    "Functions can call other functions."
   ]
  },
  {
   "cell_type": "code",
   "execution_count": 11,
   "metadata": {},
   "outputs": [
    {
     "name": "stdout",
     "output_type": "stream",
     "text": [
      "width 9\n",
      "height 9\n",
      "81\n"
     ]
    }
   ],
   "source": [
    "def square_area(length):\n",
    "    \"\"\"Returns the area of a square given the length of one side.\"\"\"\n",
    "    return rectangle_area(length, length)\n",
    "\n",
    "print(square_area(9))"
   ]
  },
  {
   "cell_type": "markdown",
   "metadata": {},
   "source": [
    "Functions can have _default arguments_."
   ]
  },
  {
   "cell_type": "code",
   "execution_count": 12,
   "metadata": {},
   "outputs": [
    {
     "name": "stdout",
     "output_type": "stream",
     "text": [
      "11\n",
      "15\n",
      "12\n",
      "25\n"
     ]
    }
   ],
   "source": [
    "def inc(number, amount=1):\n",
    "    \"\"\"Increments the number.\n",
    "    \n",
    "    Keyword arguments:\n",
    "    number -- the number to increment\n",
    "    amount -- the amount to increment (default 1)\n",
    "    \"\"\"\n",
    "    return number + amount\n",
    "\n",
    "print(inc(10))\n",
    "print(inc(10, amount=5))\n",
    "print(inc(10, 2))\n",
    "print(inc(amount=5, number=20))"
   ]
  },
  {
   "cell_type": "code",
   "execution_count": 14,
   "metadata": {},
   "outputs": [
    {
     "ename": "TypeError",
     "evalue": "inc() missing 1 required positional argument: 'number'",
     "output_type": "error",
     "traceback": [
      "\u001b[0;31m---------------------------------------------------------------------------\u001b[0m",
      "\u001b[0;31mTypeError\u001b[0m                                 Traceback (most recent call last)",
      "\u001b[0;32m<ipython-input-14-bb004e21e764>\u001b[0m in \u001b[0;36m<module>\u001b[0;34m\u001b[0m\n\u001b[0;32m----> 1\u001b[0;31m \u001b[0minc\u001b[0m\u001b[0;34m(\u001b[0m\u001b[0;34m)\u001b[0m\u001b[0;34m\u001b[0m\u001b[0;34m\u001b[0m\u001b[0m\n\u001b[0m",
      "\u001b[0;31mTypeError\u001b[0m: inc() missing 1 required positional argument: 'number'"
     ]
    }
   ],
   "source": [
    "inc()"
   ]
  },
  {
   "cell_type": "code",
   "execution_count": 13,
   "metadata": {},
   "outputs": [
    {
     "name": "stdout",
     "output_type": "stream",
     "text": [
      "Help on function inc in module __main__:\n",
      "\n",
      "inc(number, amount=1)\n",
      "    Increments the number.\n",
      "    \n",
      "    Keyword arguments:\n",
      "    number -- the number to increment\n",
      "    amount -- the amount to increment (default 1)\n",
      "\n"
     ]
    }
   ],
   "source": [
    "help(inc)"
   ]
  },
  {
   "cell_type": "markdown",
   "metadata": {},
   "source": [
    "Functions can be made of multiple lines, of course."
   ]
  },
  {
   "cell_type": "code",
   "execution_count": 15,
   "metadata": {},
   "outputs": [
    {
     "name": "stdout",
     "output_type": "stream",
     "text": [
      "Carter Nelson\n",
      "Carter P. Nelson\n",
      "Carter Phoenix Nelson\n",
      "Nelson, Carter P.\n"
     ]
    }
   ],
   "source": [
    "def name(first, last, middle=None, last_name_first=False):\n",
    "    \"\"\"Returns the name of a person. \n",
    "    First and last name are required. The middle name is not. If the middle name\n",
    "    is one character, it is assumed to be an initial and a period will be added.\n",
    "    \n",
    "    Keyword arguments:\n",
    "    first -- the first name\n",
    "    last -- the last name\n",
    "    middle -- middle name or initial (default None)\n",
    "    last_name_first -- do you want the last name printed first? (default False)\n",
    "    \"\"\"\n",
    "    if middle is None:\n",
    "        first_part = first\n",
    "    else:\n",
    "        if len(middle) == 1:\n",
    "            middle = middle + \".\"\n",
    "\n",
    "        first_part = first + \" \" + middle\n",
    "\n",
    "        \n",
    "    if last_name_first:\n",
    "        return last + \", \" + first_part\n",
    "    else:\n",
    "        return first_part + \" \" + last\n",
    "    \n",
    "print(name(first=\"Carter\", last=\"Nelson\"))\n",
    "print(name(first=\"Carter\", last=\"Nelson\", middle=\"P\"))\n",
    "print(name(first=\"Carter\", last=\"Nelson\", middle=\"Phoenix\"))\n",
    "print(name(first=\"Carter\", last=\"Nelson\", middle=\"P\", last_name_first=True))\n",
    "        "
   ]
  },
  {
   "cell_type": "code",
   "execution_count": 18,
   "metadata": {},
   "outputs": [
    {
     "ename": "TypeError",
     "evalue": "name() got multiple values for argument 'first'",
     "output_type": "error",
     "traceback": [
      "\u001b[0;31m---------------------------------------------------------------------------\u001b[0m",
      "\u001b[0;31mTypeError\u001b[0m                                 Traceback (most recent call last)",
      "\u001b[0;32m<ipython-input-18-940ac5f3ca6c>\u001b[0m in \u001b[0;36m<module>\u001b[0;34m\u001b[0m\n\u001b[0;32m----> 1\u001b[0;31m \u001b[0mname\u001b[0m\u001b[0;34m(\u001b[0m\u001b[0;34m\"Carter\"\u001b[0m\u001b[0;34m,\u001b[0m \u001b[0mlast\u001b[0m\u001b[0;34m=\u001b[0m\u001b[0;34m\"Nelson\"\u001b[0m\u001b[0;34m,\u001b[0m \u001b[0mfirst\u001b[0m\u001b[0;34m=\u001b[0m\u001b[0;34m\"P\"\u001b[0m\u001b[0;34m)\u001b[0m\u001b[0;34m\u001b[0m\u001b[0;34m\u001b[0m\u001b[0m\n\u001b[0m",
      "\u001b[0;31mTypeError\u001b[0m: name() got multiple values for argument 'first'"
     ]
    }
   ],
   "source": [
    "name(\"Carter\", last=\"Nelson\", first=\"P\")"
   ]
  },
  {
   "cell_type": "code",
   "execution_count": 19,
   "metadata": {},
   "outputs": [
    {
     "data": {
      "text/plain": [
       "'Clinton D'"
      ]
     },
     "execution_count": 19,
     "metadata": {},
     "output_type": "execute_result"
    }
   ],
   "source": [
    "name(\"Clinton\", \"D\")"
   ]
  }
 ],
 "metadata": {
  "kernelspec": {
   "display_name": "Python 3",
   "language": "python",
   "name": "python3"
  },
  "language_info": {
   "codemirror_mode": {
    "name": "ipython",
    "version": 3
   },
   "file_extension": ".py",
   "mimetype": "text/x-python",
   "name": "python",
   "nbconvert_exporter": "python",
   "pygments_lexer": "ipython3",
   "version": "3.7.5"
  }
 },
 "nbformat": 4,
 "nbformat_minor": 1
}
